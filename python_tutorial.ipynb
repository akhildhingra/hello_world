{
  "nbformat": 4,
  "nbformat_minor": 0,
  "metadata": {
    "hide_input": false,
    "kernelspec": {
      "display_name": "Python 3",
      "language": "python",
      "name": "python3"
    },
    "language_info": {
      "codemirror_mode": {
        "name": "ipython",
        "version": 3
      },
      "file_extension": ".py",
      "mimetype": "text/x-python",
      "name": "python",
      "nbconvert_exporter": "python",
      "pygments_lexer": "ipython3",
      "version": "3.6.6"
    },
    "colab": {
      "name": "python tutorial.ipynb",
      "provenance": [],
      "collapsed_sections": [],
      "include_colab_link": true
    }
  },
  "cells": [
    {
      "cell_type": "markdown",
      "metadata": {
        "id": "view-in-github",
        "colab_type": "text"
      },
      "source": [
        "<a href=\"https://colab.research.google.com/github/akhildhingra/hello_world/blob/master/python_tutorial.ipynb\" target=\"_parent\"><img src=\"https://colab.research.google.com/assets/colab-badge.svg\" alt=\"Open In Colab\"/></a>"
      ]
    },
    {
      "cell_type": "markdown",
      "metadata": {
        "id": "VU49HIfCgu8y",
        "colab_type": "text"
      },
      "source": [
        "https://github.com/jakevdp/PythonDataScienceHandbook"
      ]
    },
    {
      "cell_type": "markdown",
      "metadata": {
        "id": "tkS5C2iVg3c6",
        "colab_type": "text"
      },
      "source": [
        "Launch a live notebook server with these notebooks using binder: https://mybinder.org/"
      ]
    },
    {
      "cell_type": "code",
      "metadata": {
        "id": "bsY4_D4ChyGn",
        "colab_type": "code",
        "colab": {
          "base_uri": "https://localhost:8080/",
          "height": 122
        },
        "outputId": "f2d55e8a-6838-4547-eabb-c536035eda3b"
      },
      "source": [
        "from google.colab import drive\n",
        "drive.mount('/content/drive')"
      ],
      "execution_count": 3,
      "outputs": [
        {
          "output_type": "stream",
          "text": [
            "Go to this URL in a browser: https://accounts.google.com/o/oauth2/auth?client_id=947318989803-6bn6qk8qdgf4n4g3pfee6491hc0brc4i.apps.googleusercontent.com&redirect_uri=urn%3Aietf%3Awg%3Aoauth%3A2.0%3Aoob&scope=email%20https%3A%2F%2Fwww.googleapis.com%2Fauth%2Fdocs.test%20https%3A%2F%2Fwww.googleapis.com%2Fauth%2Fdrive%20https%3A%2F%2Fwww.googleapis.com%2Fauth%2Fdrive.photos.readonly%20https%3A%2F%2Fwww.googleapis.com%2Fauth%2Fpeopleapi.readonly&response_type=code\n",
            "\n",
            "Enter your authorization code:\n",
            "··········\n",
            "Mounted at /content/drive\n"
          ],
          "name": "stdout"
        }
      ]
    },
    {
      "cell_type": "markdown",
      "metadata": {
        "id": "bnuPM869k1Ti",
        "colab_type": "text"
      },
      "source": [
        "**Note** When using file path, instead of 'data/file' use 'drive/My Drive/data/file'"
      ]
    },
    {
      "cell_type": "code",
      "metadata": {
        "ExecuteTime": {
          "end_time": "2019-11-01T16:40:39.963598Z",
          "start_time": "2019-11-01T16:40:39.958449Z"
        },
        "id": "3ZGrdJtnb-_Z",
        "colab_type": "code",
        "colab": {
          "base_uri": "https://localhost:8080/",
          "height": 102
        },
        "outputId": "736df5cc-3838-465d-edfb-a281e1c48118"
      },
      "source": [
        "help(len)"
      ],
      "execution_count": 1,
      "outputs": [
        {
          "output_type": "stream",
          "text": [
            "Help on built-in function len in module builtins:\n",
            "\n",
            "len(obj, /)\n",
            "    Return the number of items in a container.\n",
            "\n"
          ],
          "name": "stdout"
        }
      ]
    },
    {
      "cell_type": "code",
      "metadata": {
        "ExecuteTime": {
          "end_time": "2019-11-01T16:41:20.579618Z",
          "start_time": "2019-11-01T16:41:20.545619Z"
        },
        "id": "qguWbRo6b-_c",
        "colab_type": "code",
        "colab": {}
      },
      "source": [
        "len?\n"
      ],
      "execution_count": 0,
      "outputs": []
    },
    {
      "cell_type": "code",
      "metadata": {
        "ExecuteTime": {
          "end_time": "2019-11-01T16:42:30.952007Z",
          "start_time": "2019-11-01T16:42:30.947828Z"
        },
        "id": "tF3TJ6aUb-_e",
        "colab_type": "code",
        "colab": {}
      },
      "source": [
        "L=[1,2,3]\n",
        "L.insert?"
      ],
      "execution_count": 0,
      "outputs": []
    },
    {
      "cell_type": "code",
      "metadata": {
        "ExecuteTime": {
          "end_time": "2019-11-01T16:43:26.227681Z",
          "start_time": "2019-11-01T16:43:26.224001Z"
        },
        "id": "O6wiUEgUb-_g",
        "colab_type": "code",
        "colab": {}
      },
      "source": [
        "def square(a):\n",
        "    \"\"\"return square of a number\"\"\"\n",
        "    return a ** 2"
      ],
      "execution_count": 0,
      "outputs": []
    },
    {
      "cell_type": "code",
      "metadata": {
        "ExecuteTime": {
          "end_time": "2019-11-01T16:43:32.891304Z",
          "start_time": "2019-11-01T16:43:32.878310Z"
        },
        "id": "yq9XiqN4b-_i",
        "colab_type": "code",
        "colab": {}
      },
      "source": [
        "square?\n"
      ],
      "execution_count": 0,
      "outputs": []
    },
    {
      "cell_type": "code",
      "metadata": {
        "ExecuteTime": {
          "end_time": "2019-11-01T16:44:40.016981Z",
          "start_time": "2019-11-01T16:44:39.998194Z"
        },
        "id": "HA_ySVhlb-_k",
        "colab_type": "code",
        "colab": {}
      },
      "source": [
        "len??"
      ],
      "execution_count": 0,
      "outputs": []
    },
    {
      "cell_type": "code",
      "metadata": {
        "ExecuteTime": {
          "end_time": "2019-11-01T16:44:49.421974Z",
          "start_time": "2019-11-01T16:44:49.413440Z"
        },
        "id": "GUsgohUob-_m",
        "colab_type": "code",
        "colab": {}
      },
      "source": [
        "square??\n"
      ],
      "execution_count": 0,
      "outputs": []
    },
    {
      "cell_type": "code",
      "metadata": {
        "ExecuteTime": {
          "end_time": "2019-11-01T16:51:27.599103Z",
          "start_time": "2019-11-01T16:51:27.596077Z"
        },
        "id": "9IB_3zslb-_o",
        "colab_type": "code",
        "colab": {}
      },
      "source": [
        "#L._<tab>"
      ],
      "execution_count": 0,
      "outputs": []
    },
    {
      "cell_type": "code",
      "metadata": {
        "ExecuteTime": {
          "end_time": "2019-11-01T16:51:50.322439Z",
          "start_time": "2019-11-01T16:51:50.319359Z"
        },
        "id": "pYtJ8nfNb-_q",
        "colab_type": "code",
        "colab": {}
      },
      "source": [
        "#from intertools import co<tab>"
      ],
      "execution_count": 0,
      "outputs": []
    },
    {
      "cell_type": "code",
      "metadata": {
        "ExecuteTime": {
          "end_time": "2019-11-01T16:52:08.201586Z",
          "start_time": "2019-11-01T16:52:08.197860Z"
        },
        "id": "m0vkuS_Db-_s",
        "colab_type": "code",
        "colab": {}
      },
      "source": [
        "#import <tab>"
      ],
      "execution_count": 0,
      "outputs": []
    },
    {
      "cell_type": "code",
      "metadata": {
        "ExecuteTime": {
          "end_time": "2019-11-01T16:57:18.772753Z",
          "start_time": "2019-11-01T16:57:18.765905Z"
        },
        "id": "x7--o_gkb-_u",
        "colab_type": "code",
        "colab": {}
      },
      "source": [
        "#dont work *warning?"
      ],
      "execution_count": 0,
      "outputs": []
    },
    {
      "cell_type": "code",
      "metadata": {
        "ExecuteTime": {
          "end_time": "2019-11-01T16:57:10.935945Z",
          "start_time": "2019-11-01T16:57:10.931683Z"
        },
        "id": "Orez2jwDb-_w",
        "colab_type": "code",
        "colab": {}
      },
      "source": [
        "str.*find*?"
      ],
      "execution_count": 0,
      "outputs": []
    },
    {
      "cell_type": "code",
      "metadata": {
        "ExecuteTime": {
          "end_time": "2019-11-02T16:11:02.813983Z",
          "start_time": "2019-11-02T16:11:02.809427Z"
        },
        "id": "dYmqf1ZRb-_y",
        "colab_type": "code",
        "colab": {},
        "outputId": "17d1cf59-68cd-4a4c-afc0-fabc11af4f93"
      },
      "source": [
        "print(In)"
      ],
      "execution_count": 0,
      "outputs": [
        {
          "output_type": "stream",
          "text": [
            "['', 'help(len)', \"get_ipython().run_line_magic('pinfo', 'len')\", \"L=[1,2,3]\\nget_ipython().run_line_magic('pinfo', 'L.insert')\", 'def square(a):\\n    \"\"\"return square of a number\"\"\"\\n    return a ** 2', \"get_ipython().run_line_magic('pinfo', 'square')\", \"get_ipython().run_line_magic('pinfo2', 'len')\", \"get_ipython().run_line_magic('pinfo2', 'square')\", '#L._', '#from intertools import co<tab>', '#import <tab>', \"get_ipython().run_line_magic('psearch', '*warning')\", \"get_ipython().run_line_magic('psearch', '*warning')\", \"get_ipython().run_line_magic('psearch', 'str.*find*')\", \"get_ipython().run_line_magic('psearch', '*warning')\", 'print(In)']\n"
          ],
          "name": "stdout"
        }
      ]
    },
    {
      "cell_type": "code",
      "metadata": {
        "ExecuteTime": {
          "end_time": "2019-11-02T16:13:48.407507Z",
          "start_time": "2019-11-02T16:13:47.728446Z"
        },
        "id": "Fpr45MZDb-_0",
        "colab_type": "code",
        "colab": {},
        "outputId": "5cfcd9a5-f7ed-4fa8-b641-b9d6fa8fb7cd"
      },
      "source": [
        "!pwd"
      ],
      "execution_count": 0,
      "outputs": [
        {
          "output_type": "stream",
          "text": [
            "/nfs\r\n"
          ],
          "name": "stdout"
        }
      ]
    },
    {
      "cell_type": "code",
      "metadata": {
        "ExecuteTime": {
          "end_time": "2019-11-02T16:13:53.103874Z",
          "start_time": "2019-11-02T16:13:52.409267Z"
        },
        "id": "3Xpgosctb-_2",
        "colab_type": "code",
        "colab": {},
        "outputId": "3d30e58f-6ba8-4e05-ad54-2ece92c02f8c"
      },
      "source": [
        "!ls"
      ],
      "execution_count": 0,
      "outputs": [
        {
          "output_type": "stream",
          "text": [
            " adhingra_notebook.ipynb   conda_envs\t    link-to-onboarding-notebooks\r\n",
            " adhingra_Untitled.ipynb   employees.text   notebooks\r\n",
            " airflow\t\t   home\t\t   'python tutorial.ipynb'\r\n"
          ],
          "name": "stdout"
        }
      ]
    },
    {
      "cell_type": "code",
      "metadata": {
        "ExecuteTime": {
          "end_time": "2019-11-02T16:14:08.763198Z",
          "start_time": "2019-11-02T16:14:08.092197Z"
        },
        "id": "lrD_zMpUb-_4",
        "colab_type": "code",
        "colab": {},
        "outputId": "f5041d44-84ab-42e3-8390-7f75f0aba09d"
      },
      "source": [
        "!echo \"printing from shell\""
      ],
      "execution_count": 0,
      "outputs": [
        {
          "output_type": "stream",
          "text": [
            "printing from shell\r\n"
          ],
          "name": "stdout"
        }
      ]
    },
    {
      "cell_type": "code",
      "metadata": {
        "ExecuteTime": {
          "end_time": "2019-11-02T16:46:49.689302Z",
          "start_time": "2019-11-02T16:46:49.648997Z"
        },
        "id": "pD47ZDUPb-_6",
        "colab_type": "code",
        "colab": {},
        "outputId": "221765ac-be4a-475e-ece0-530fbf7e25af"
      },
      "source": [
        "%%file test_file.py\n",
        "def add_ten(N):\n",
        "    print(N+10)"
      ],
      "execution_count": 0,
      "outputs": [
        {
          "output_type": "stream",
          "text": [
            "Overwriting test_file.py\n"
          ],
          "name": "stdout"
        }
      ]
    },
    {
      "cell_type": "code",
      "metadata": {
        "ExecuteTime": {
          "end_time": "2019-11-02T16:46:51.636040Z",
          "start_time": "2019-11-02T16:46:51.620215Z"
        },
        "id": "t81i510nb-_8",
        "colab_type": "code",
        "colab": {}
      },
      "source": [
        "%run test_file.py"
      ],
      "execution_count": 0,
      "outputs": []
    },
    {
      "cell_type": "code",
      "metadata": {
        "ExecuteTime": {
          "end_time": "2019-11-02T16:59:52.993291Z",
          "start_time": "2019-11-02T16:59:52.987089Z"
        },
        "id": "pb3725mIb-_-",
        "colab_type": "code",
        "colab": {},
        "outputId": "a64d8ae1-d5b5-457a-9590-2ced4113aa43"
      },
      "source": [
        "import numpy as np\n",
        "np.__version__"
      ],
      "execution_count": 0,
      "outputs": [
        {
          "output_type": "execute_result",
          "data": {
            "text/plain": [
              "'1.14.1'"
            ]
          },
          "metadata": {
            "tags": []
          },
          "execution_count": 27
        }
      ]
    },
    {
      "cell_type": "code",
      "metadata": {
        "ExecuteTime": {
          "end_time": "2019-11-02T17:00:45.943830Z",
          "start_time": "2019-11-02T17:00:45.939412Z"
        },
        "id": "-ypHS96Nb_AA",
        "colab_type": "code",
        "colab": {}
      },
      "source": [
        "np?"
      ],
      "execution_count": 0,
      "outputs": []
    },
    {
      "cell_type": "code",
      "metadata": {
        "ExecuteTime": {
          "end_time": "2019-11-02T20:57:44.016619Z",
          "start_time": "2019-11-02T20:57:44.013815Z"
        },
        "id": "bop_mduub_AD",
        "colab_type": "code",
        "colab": {}
      },
      "source": [
        "#python is a dynamically typed language. The variables are explicitly not declared and are more than just the value."
      ],
      "execution_count": 0,
      "outputs": []
    },
    {
      "cell_type": "code",
      "metadata": {
        "ExecuteTime": {
          "end_time": "2019-11-02T20:58:34.082751Z",
          "start_time": "2019-11-02T20:58:34.077835Z"
        },
        "id": "wvcvDi21b_AG",
        "colab_type": "code",
        "colab": {},
        "outputId": "873418ef-1ebb-4a09-e45a-235ac00c640b"
      },
      "source": [
        "L1 = list(range(10)) # The standard Mutable Multi-element container in python is List\n",
        "type(L1[0])"
      ],
      "execution_count": 0,
      "outputs": [
        {
          "output_type": "execute_result",
          "data": {
            "text/plain": [
              "int"
            ]
          },
          "metadata": {
            "tags": []
          },
          "execution_count": 32
        }
      ]
    },
    {
      "cell_type": "code",
      "metadata": {
        "ExecuteTime": {
          "end_time": "2019-11-02T21:00:31.067839Z",
          "start_time": "2019-11-02T21:00:31.063078Z"
        },
        "id": "VSbuln17b_AN",
        "colab_type": "code",
        "colab": {},
        "outputId": "d6f28a0f-48dd-4059-8183-18c6d10fb18c"
      },
      "source": [
        "L2=list(str(c) for c in L1) # or L2=[str(c) for c in L1]\n",
        "L2 # or print(L2)"
      ],
      "execution_count": 0,
      "outputs": [
        {
          "output_type": "execute_result",
          "data": {
            "text/plain": [
              "['0', '1', '2', '3', '4', '5', '6', '7', '8', '9']"
            ]
          },
          "metadata": {
            "tags": []
          },
          "execution_count": 37
        }
      ]
    },
    {
      "cell_type": "code",
      "metadata": {
        "ExecuteTime": {
          "end_time": "2019-11-02T21:01:54.144084Z",
          "start_time": "2019-11-02T21:01:54.139061Z"
        },
        "id": "s8s75Xz6b_AO",
        "colab_type": "code",
        "colab": {},
        "outputId": "dd652d60-4b79-4a68-d8bb-523c1b33f18d"
      },
      "source": [
        "# because of Python's dynmamic typing, you can have heterogeneous lists\n",
        "L3=[True,1,'str',3.0]\n",
        "[type(item) for item in L3]"
      ],
      "execution_count": 0,
      "outputs": [
        {
          "output_type": "execute_result",
          "data": {
            "text/plain": [
              "[bool, int, str, float]"
            ]
          },
          "metadata": {
            "tags": []
          },
          "execution_count": 38
        }
      ]
    },
    {
      "cell_type": "code",
      "metadata": {
        "ExecuteTime": {
          "end_time": "2019-11-02T21:09:39.593261Z",
          "start_time": "2019-11-02T21:09:39.588751Z"
        },
        "id": "XqGchAR0b_AQ",
        "colab_type": "code",
        "colab": {},
        "outputId": "30a0308d-e279-40f6-e8f9-470c440764de"
      },
      "source": [
        "import array\n",
        "L=list(range(10))\n",
        "#type(L)\n",
        "#print(L[3])\n",
        "A=array.array('i',L)\n",
        "A"
      ],
      "execution_count": 0,
      "outputs": [
        {
          "output_type": "execute_result",
          "data": {
            "text/plain": [
              "array('i', [0, 1, 2, 3, 4, 5, 6, 7, 8, 9])"
            ]
          },
          "metadata": {
            "tags": []
          },
          "execution_count": 56
        }
      ]
    },
    {
      "cell_type": "code",
      "metadata": {
        "ExecuteTime": {
          "end_time": "2019-11-02T21:14:24.669354Z",
          "start_time": "2019-11-02T21:14:24.665144Z"
        },
        "id": "hqOl90d-b_AS",
        "colab_type": "code",
        "colab": {},
        "outputId": "de96ddaf-4c0b-4187-aa27-060617328c81"
      },
      "source": [
        "R=range(2,5)\n",
        "R[2] #r[3] will give error, not 5"
      ],
      "execution_count": 0,
      "outputs": [
        {
          "output_type": "execute_result",
          "data": {
            "text/plain": [
              "4"
            ]
          },
          "metadata": {
            "tags": []
          },
          "execution_count": 67
        }
      ]
    },
    {
      "cell_type": "code",
      "metadata": {
        "ExecuteTime": {
          "end_time": "2019-11-03T09:55:28.888070Z",
          "start_time": "2019-11-03T09:55:28.879479Z"
        },
        "id": "Gp7VoNqVb_AU",
        "colab_type": "code",
        "colab": {},
        "outputId": "3cb2d29d-935f-4216-812e-eb8cd7279d26"
      },
      "source": [
        "#creating arrays from python lists\n",
        "import numpy as np\n",
        "np.array([1,2,3,4]) #np arrays have same type\n",
        "np.array([1,2.1,3,4]) #upcast if possible or give error\n",
        "np.array([1,2,3,4],dtype='float32') #dtype is data type explicitly\n",
        "np.array([range(i,i+3) for i in [2,3,4]]) #multi demensional array. Range a list with int datatype or an array"
      ],
      "execution_count": 0,
      "outputs": [
        {
          "output_type": "execute_result",
          "data": {
            "text/plain": [
              "array([[2, 3, 4],\n",
              "       [3, 4, 5],\n",
              "       [4, 5, 6]])"
            ]
          },
          "metadata": {
            "tags": []
          },
          "execution_count": 2
        }
      ]
    },
    {
      "cell_type": "code",
      "metadata": {
        "ExecuteTime": {
          "end_time": "2019-11-02T21:30:52.161641Z",
          "start_time": "2019-11-02T21:30:52.159088Z"
        },
        "id": "l3zHsUVIb_AW",
        "colab_type": "code",
        "colab": {}
      },
      "source": [
        "# Question: Curl call from python notebook/Shell or simply from terminal/postman. do. (curl databricks call)"
      ],
      "execution_count": 0,
      "outputs": []
    },
    {
      "cell_type": "code",
      "metadata": {
        "ExecuteTime": {
          "end_time": "2019-11-02T21:34:25.744908Z",
          "start_time": "2019-11-02T21:34:25.736226Z"
        },
        "id": "woK64GEKb_AZ",
        "colab_type": "code",
        "colab": {},
        "outputId": "78ee6827-94fe-42f2-edb4-9addeda5305c"
      },
      "source": [
        "np.empty(3)"
      ],
      "execution_count": 0,
      "outputs": [
        {
          "output_type": "execute_result",
          "data": {
            "text/plain": [
              "array([0.75, 0.75, 0.  ])"
            ]
          },
          "metadata": {
            "tags": []
          },
          "execution_count": 78
        }
      ]
    },
    {
      "cell_type": "code",
      "metadata": {
        "ExecuteTime": {
          "end_time": "2019-11-02T21:37:43.451193Z",
          "start_time": "2019-11-02T21:37:43.448882Z"
        },
        "id": "5jJd28y3b_Ab",
        "colab_type": "code",
        "colab": {}
      },
      "source": [
        "#numpy builtin functyions for generating arrays\n",
        "#https://docs.google.com/document/d/1k9LBk_WrUr6N1QmNEICrxm5N6BOx5uQwhCtQheZkNyY/edit"
      ],
      "execution_count": 0,
      "outputs": []
    },
    {
      "cell_type": "code",
      "metadata": {
        "ExecuteTime": {
          "end_time": "2019-11-03T09:56:34.038913Z",
          "start_time": "2019-11-03T09:56:34.031187Z"
        },
        "id": "943FGLJLb_Ac",
        "colab_type": "code",
        "colab": {},
        "outputId": "1bb891d2-4b03-4454-99bc-0525150f3f74"
      },
      "source": [
        "x3 = np.random.randint(10, size=(3, 4, 5)) #10 means randomno between 0-9 , 3 means hieght, 4 = rows, 5 =colms\n",
        "x3"
      ],
      "execution_count": 0,
      "outputs": [
        {
          "output_type": "execute_result",
          "data": {
            "text/plain": [
              "array([[[2, 6, 3, 1, 4],\n",
              "        [4, 8, 4, 6, 0],\n",
              "        [4, 1, 5, 7, 0],\n",
              "        [7, 1, 6, 1, 2]],\n",
              "\n",
              "       [[0, 4, 2, 2, 8],\n",
              "        [0, 1, 5, 7, 6],\n",
              "        [0, 8, 2, 5, 9],\n",
              "        [1, 2, 5, 8, 3]],\n",
              "\n",
              "       [[9, 2, 9, 3, 8],\n",
              "        [8, 6, 4, 4, 9],\n",
              "        [7, 5, 1, 8, 6],\n",
              "        [9, 4, 8, 9, 8]]])"
            ]
          },
          "metadata": {
            "tags": []
          },
          "execution_count": 7
        }
      ]
    },
    {
      "cell_type": "code",
      "metadata": {
        "id": "aNp6kxExb_Af",
        "colab_type": "code",
        "colab": {}
      },
      "source": [
        "x1 = np.random.randint(10, size=6)\n",
        "x1[0] = 3.14159  # this will be truncated! but modified\n",
        "x1"
      ],
      "execution_count": 0,
      "outputs": []
    },
    {
      "cell_type": "code",
      "metadata": {
        "ExecuteTime": {
          "end_time": "2019-11-03T10:01:54.142347Z",
          "start_time": "2019-11-03T10:01:54.135245Z"
        },
        "id": "du5EbE8Wb_An",
        "colab_type": "code",
        "colab": {},
        "outputId": "36cdf1c5-11c5-4ea3-f057-67eb44d27e6b"
      },
      "source": [
        "x = np.arange(10) #this is an array\n",
        "x"
      ],
      "execution_count": 0,
      "outputs": [
        {
          "output_type": "execute_result",
          "data": {
            "text/plain": [
              "array([0, 1, 2, 3, 4, 5, 6, 7, 8, 9])"
            ]
          },
          "metadata": {
            "tags": []
          },
          "execution_count": 8
        }
      ]
    },
    {
      "cell_type": "code",
      "metadata": {
        "ExecuteTime": {
          "start_time": "2019-11-03T11:41:16.498Z"
        },
        "id": "BN8mFqDxb_Ap",
        "colab_type": "code",
        "colab": {}
      },
      "source": [
        "x[::-1]  # all elements, reversed syntax is start:stop:step\n",
        "#start:stop is index not row colm, so x[:] =all array, x[:5] from starting to 5th index, x[5:] from 5th index to end\n",
        "#similarly x[::-1] is only step. ite extends to 2D , where comma separates row, colm"
      ],
      "execution_count": 0,
      "outputs": []
    },
    {
      "cell_type": "code",
      "metadata": {
        "ExecuteTime": {
          "end_time": "2019-11-03T12:12:02.674596Z",
          "start_time": "2019-11-03T12:12:02.660711Z"
        },
        "id": "bSMhGhwYb_Ar",
        "colab_type": "code",
        "colab": {},
        "outputId": "3859f411-9972-4817-b151-997244558313"
      },
      "source": [
        "x2 = np.random.randint(10, size=(3, 4)) #10 means randomno between 0-9 \n",
        "x2"
      ],
      "execution_count": 0,
      "outputs": [
        {
          "output_type": "execute_result",
          "data": {
            "text/plain": [
              "array([[8, 9, 0, 7],\n",
              "       [7, 7, 0, 7],\n",
              "       [8, 8, 6, 7]])"
            ]
          },
          "metadata": {
            "tags": []
          },
          "execution_count": 16
        }
      ]
    },
    {
      "cell_type": "code",
      "metadata": {
        "ExecuteTime": {
          "end_time": "2019-11-03T12:16:58.616775Z",
          "start_time": "2019-11-03T12:16:58.611354Z"
        },
        "id": "rg4JQGJub_As",
        "colab_type": "code",
        "colab": {},
        "outputId": "3cda16bf-9efd-4a0a-c42c-54d35c0e9edf"
      },
      "source": [
        "x2[:,:] #all array row, colm\n",
        "x2[:2,2:]  #rows :2 means stop index is 2 (so first two rows),colms 2: means start index is 2 (colm 3rd and 4th (end))\n",
        "x2[::-1,::-1] #will reverse\n",
        "#accessing row colm\n",
        "print(x2[:,0]) # 0 represents index, here first colm will be printed, : means all \n",
        "print(x2[0,:]) # 0 represents index, here first rows will be printed, : means all \n",
        "print(x2[0]) #prints first row, same as abpove\n",
        "#note: sub arrays are views on data, meaning if you modify them the original array would also be changed\n",
        "# to create sub array as copy of data use.copy() in end\n",
        "x2_sub_copy = x2[:2, :2].copy()"
      ],
      "execution_count": 0,
      "outputs": [
        {
          "output_type": "stream",
          "text": [
            "[8 7 8]\n",
            "[8 9 0 7]\n",
            "[8 9 0 7]\n"
          ],
          "name": "stdout"
        }
      ]
    },
    {
      "cell_type": "code",
      "metadata": {
        "ExecuteTime": {
          "end_time": "2019-11-04T09:20:10.740959Z",
          "start_time": "2019-11-04T09:20:10.734642Z"
        },
        "id": "2ycgzptfb_Au",
        "colab_type": "code",
        "colab": {}
      },
      "source": [
        "#do from concatenation of arrays. before that if you can do newaxis. changing 1d to 2d? "
      ],
      "execution_count": 0,
      "outputs": []
    },
    {
      "cell_type": "code",
      "metadata": {
        "ExecuteTime": {
          "end_time": "2019-11-04T15:20:47.367514Z",
          "start_time": "2019-11-04T15:20:47.362570Z"
        },
        "id": "sIOMdii6b_Aw",
        "colab_type": "code",
        "colab": {},
        "outputId": "1b918aeb-6614-4e01-8631-248f1ac0a645"
      },
      "source": [
        "# presto connection, pandas https://docs.google.com/document/d/1j0OsT3rJAsI7kL0eg_uKf9CbdkQ5023KNOaurrIMvzg/edit\n",
        "values = np.random.randint(1,10,size=5)\n",
        "values"
      ],
      "execution_count": 0,
      "outputs": [
        {
          "output_type": "execute_result",
          "data": {
            "text/plain": [
              "array([3, 9, 6, 1, 1])"
            ]
          },
          "metadata": {
            "tags": []
          },
          "execution_count": 24
        }
      ]
    },
    {
      "cell_type": "code",
      "metadata": {
        "ExecuteTime": {
          "end_time": "2019-11-04T15:21:15.722512Z",
          "start_time": "2019-11-04T15:21:15.715853Z"
        },
        "id": "FVdi5lGBb_Ax",
        "colab_type": "code",
        "colab": {},
        "outputId": "62a9b3d7-5064-4434-9fde-8845c28bf440"
      },
      "source": [
        "import numpy as np\n",
        "np.random.seed(0)\n",
        "\n",
        "def get_reciprocals(values):\n",
        "    output=np.empty(len(values))\n",
        "    for i in range(len(values)):\n",
        "        output[i] = 1/values[i]\n",
        "        return output\n",
        "\n",
        "values = np.random.randint(1,10,size=5) # size is length of array\n",
        "get_reciprocals(values)"
      ],
      "execution_count": 0,
      "outputs": [
        {
          "output_type": "execute_result",
          "data": {
            "text/plain": [
              "array([1.66666667e-001, 0.00000000e+000, 0.00000000e+000,             nan,\n",
              "       6.93521275e-310])"
            ]
          },
          "metadata": {
            "tags": []
          },
          "execution_count": 25
        }
      ]
    },
    {
      "cell_type": "code",
      "metadata": {
        "ExecuteTime": {
          "end_time": "2019-11-04T15:25:31.801065Z",
          "start_time": "2019-11-04T15:25:31.798780Z"
        },
        "id": "rj39l9Nkb_A0",
        "colab_type": "code",
        "colab": {}
      },
      "source": [
        "#vectorized operations in python. (numpy)\n",
        "#it can be implemented on entire array, and then acts on each element. eg in above example, instead of looping\n",
        "#and dividing by 1, just do 1/vector_variable"
      ],
      "execution_count": 0,
      "outputs": []
    },
    {
      "cell_type": "code",
      "metadata": {
        "ExecuteTime": {
          "end_time": "2019-11-04T15:25:37.570046Z",
          "start_time": "2019-11-04T15:25:37.565498Z"
        },
        "id": "kLubi9j9b_A2",
        "colab_type": "code",
        "colab": {},
        "outputId": "866ed32d-358f-4130-c6f9-4c13be4948e9"
      },
      "source": [
        "1/values"
      ],
      "execution_count": 0,
      "outputs": [
        {
          "output_type": "execute_result",
          "data": {
            "text/plain": [
              "array([0.16666667, 1.        , 0.25      , 0.25      , 0.125     ])"
            ]
          },
          "metadata": {
            "tags": []
          },
          "execution_count": 27
        }
      ]
    },
    {
      "cell_type": "code",
      "metadata": {
        "ExecuteTime": {
          "end_time": "2019-11-04T15:27:06.805023Z",
          "start_time": "2019-11-04T15:27:06.797888Z"
        },
        "id": "0z6_qBTwb_A3",
        "colab_type": "code",
        "colab": {},
        "outputId": "57dfe621-80e6-418d-c065-6c66a2590fe2"
      },
      "source": [
        "#you can also use numpy on 2d array, 3d etc\n",
        "2*np.arange(9).reshape((3,3))\n",
        "np.arange(5)/np.arange(1,6)"
      ],
      "execution_count": 0,
      "outputs": [
        {
          "output_type": "execute_result",
          "data": {
            "text/plain": [
              "array([0.        , 0.5       , 0.66666667, 0.75      , 0.8       ])"
            ]
          },
          "metadata": {
            "tags": []
          },
          "execution_count": 30
        }
      ]
    },
    {
      "cell_type": "code",
      "metadata": {
        "ExecuteTime": {
          "end_time": "2019-11-04T16:06:11.604265Z",
          "start_time": "2019-11-04T16:06:11.601781Z"
        },
        "id": "D6k8FLX1b_A6",
        "colab_type": "code",
        "colab": {}
      },
      "source": [
        "# ** is used for exponent, // for floor division, the % modulus, abs(x) for absolute or np.absolute(x)"
      ],
      "execution_count": 0,
      "outputs": []
    },
    {
      "cell_type": "code",
      "metadata": {
        "ExecuteTime": {
          "end_time": "2019-11-04T22:03:51.911222Z",
          "start_time": "2019-11-04T22:03:51.908949Z"
        },
        "id": "ikKa6rDwb_A_",
        "colab_type": "code",
        "colab": {}
      },
      "source": [
        "#aggregation functions in numpy has NaN safe counterpart which ignores null (marked as NaN) values\n",
        "# so instead of using np.sum() use np.nansum()\n",
        "#sum() is inbuilt python func, np.sum() is numpy veriuson, use np version since its faster\n"
      ],
      "execution_count": 0,
      "outputs": []
    },
    {
      "cell_type": "code",
      "metadata": {
        "ExecuteTime": {
          "end_time": "2019-11-04T22:06:45.416897Z",
          "start_time": "2019-11-04T22:06:45.411264Z"
        },
        "id": "RGT4ompAb_BB",
        "colab_type": "code",
        "colab": {},
        "outputId": "f7eab987-f160-4597-9ab6-d8b5da763425"
      },
      "source": [
        "import numpy as np\n",
        "rng=np.random.RandomState(0) #range, randomstate is a probability distribution for random mumbers\n",
        "x=rng.randint(10,size=(3,4))\n",
        "x"
      ],
      "execution_count": 0,
      "outputs": [
        {
          "output_type": "execute_result",
          "data": {
            "text/plain": [
              "array([[5, 0, 3, 3],\n",
              "       [7, 9, 3, 5],\n",
              "       [2, 4, 7, 6]])"
            ]
          },
          "metadata": {
            "tags": []
          },
          "execution_count": 35
        }
      ]
    },
    {
      "cell_type": "code",
      "metadata": {
        "ExecuteTime": {
          "end_time": "2019-11-04T22:08:01.437709Z",
          "start_time": "2019-11-04T22:08:01.433583Z"
        },
        "id": "17RTrMBpb_BD",
        "colab_type": "code",
        "colab": {},
        "outputId": "1c9ee083-9c4f-4c23-bfd0-1f3feb16ae40"
      },
      "source": [
        "x<3 #performs element wise less than operations (ufuncs in numpy) and returns boolean (masking)"
      ],
      "execution_count": 0,
      "outputs": [
        {
          "output_type": "execute_result",
          "data": {
            "text/plain": [
              "array([[False,  True, False, False],\n",
              "       [False, False, False, False],\n",
              "       [ True, False, False, False]])"
            ]
          },
          "metadata": {
            "tags": []
          },
          "execution_count": 36
        }
      ]
    },
    {
      "cell_type": "code",
      "metadata": {
        "ExecuteTime": {
          "end_time": "2019-11-04T22:08:52.688009Z",
          "start_time": "2019-11-04T22:08:52.683611Z"
        },
        "id": "ChHX_5OWb_BH",
        "colab_type": "code",
        "colab": {},
        "outputId": "189de8ed-672a-41a6-fa57-139ee7275232"
      },
      "source": [
        "np.less(x,3) #same as above. to avoid any python's builtin function"
      ],
      "execution_count": 0,
      "outputs": [
        {
          "output_type": "execute_result",
          "data": {
            "text/plain": [
              "array([[False,  True, False, False],\n",
              "       [False, False, False, False],\n",
              "       [ True, False, False, False]])"
            ]
          },
          "metadata": {
            "tags": []
          },
          "execution_count": 37
        }
      ]
    },
    {
      "cell_type": "code",
      "metadata": {
        "ExecuteTime": {
          "end_time": "2019-11-04T22:17:50.310933Z",
          "start_time": "2019-11-04T22:17:50.305918Z"
        },
        "id": "icjLWWgWb_BM",
        "colab_type": "code",
        "colab": {},
        "outputId": "ca92c15a-2080-49e6-b6c0-1b492fe59f34"
      },
      "source": [
        "np.sum(x<3)  #using masking to calculate something eg values <3\n",
        "np.count_nonzero(x<3)\n",
        "np.sum((x<3)&(x>1)) #can use &,| (or), ^ (Xor), ~ (not)\n",
        "#xor is exclusive OR,such that \n",
        "# 0 0: 0, \n",
        "# 0 1: 1,\n",
        "# 1 0: 1, \n",
        "# 1 1: 0"
      ],
      "execution_count": 0,
      "outputs": [
        {
          "output_type": "execute_result",
          "data": {
            "text/plain": [
              "1"
            ]
          },
          "metadata": {
            "tags": []
          },
          "execution_count": 47
        }
      ]
    },
    {
      "cell_type": "code",
      "metadata": {
        "ExecuteTime": {
          "end_time": "2019-11-04T22:09:42.135355Z",
          "start_time": "2019-11-04T22:09:42.131102Z"
        },
        "id": "8yceEzpCb_BO",
        "colab_type": "code",
        "colab": {},
        "outputId": "00d2111f-8266-4602-bd27-8887296f7025"
      },
      "source": [
        "sum(x<3) #do not use this,it is python builtin sum, not np sum"
      ],
      "execution_count": 0,
      "outputs": [
        {
          "output_type": "execute_result",
          "data": {
            "text/plain": [
              "array([1, 1, 0, 0])"
            ]
          },
          "metadata": {
            "tags": []
          },
          "execution_count": 39
        }
      ]
    },
    {
      "cell_type": "code",
      "metadata": {
        "ExecuteTime": {
          "end_time": "2019-11-04T22:10:44.051373Z",
          "start_time": "2019-11-04T22:10:44.047052Z"
        },
        "id": "sppJUUOgb_BQ",
        "colab_type": "code",
        "colab": {},
        "outputId": "676a9551-5d0c-40e7-edca-74713c5838ea"
      },
      "source": [
        "np.sum(x<3,axis=0) #on row"
      ],
      "execution_count": 0,
      "outputs": [
        {
          "output_type": "execute_result",
          "data": {
            "text/plain": [
              "array([1, 1, 0, 0])"
            ]
          },
          "metadata": {
            "tags": []
          },
          "execution_count": 40
        }
      ]
    },
    {
      "cell_type": "code",
      "metadata": {
        "ExecuteTime": {
          "end_time": "2019-11-04T22:10:55.457988Z",
          "start_time": "2019-11-04T22:10:55.453453Z"
        },
        "id": "wjOEJQWlb_BR",
        "colab_type": "code",
        "colab": {},
        "outputId": "ed800956-e0a8-4915-809d-2c401466beeb"
      },
      "source": [
        "np.sum(x<3,axis=1) #on colm axis"
      ],
      "execution_count": 0,
      "outputs": [
        {
          "output_type": "execute_result",
          "data": {
            "text/plain": [
              "array([1, 0, 1])"
            ]
          },
          "metadata": {
            "tags": []
          },
          "execution_count": 41
        }
      ]
    },
    {
      "cell_type": "code",
      "metadata": {
        "ExecuteTime": {
          "end_time": "2019-11-04T22:12:44.247408Z",
          "start_time": "2019-11-04T22:12:44.242632Z"
        },
        "id": "SyfvmTyvb_BT",
        "colab_type": "code",
        "colab": {},
        "outputId": "f92445ae-97a8-4a4e-ac05-5428df9904b3"
      },
      "source": [
        "np.all(x<3)\n",
        "np.any(x<3)\n",
        "np.any(x==3)\n",
        "np.any(x!=3)"
      ],
      "execution_count": 0,
      "outputs": [
        {
          "output_type": "execute_result",
          "data": {
            "text/plain": [
              "True"
            ]
          },
          "metadata": {
            "tags": []
          },
          "execution_count": 45
        }
      ]
    },
    {
      "cell_type": "code",
      "metadata": {
        "ExecuteTime": {
          "end_time": "2019-11-04T22:26:06.068901Z",
          "start_time": "2019-11-04T22:26:06.064557Z"
        },
        "id": "_yNFrzX0b_BW",
        "colab_type": "code",
        "colab": {},
        "outputId": "0b764800-13f4-4c2c-db88-8fbe40f16920"
      },
      "source": [
        "#boolean can be used for masking by using boolean as index of array, returns 1D array \n",
        "x[x<3]"
      ],
      "execution_count": 0,
      "outputs": [
        {
          "output_type": "execute_result",
          "data": {
            "text/plain": [
              "array([0, 2])"
            ]
          },
          "metadata": {
            "tags": []
          },
          "execution_count": 48
        }
      ]
    },
    {
      "cell_type": "code",
      "metadata": {
        "ExecuteTime": {
          "end_time": "2019-11-04T22:58:03.843325Z",
          "start_time": "2019-11-04T22:58:03.840677Z"
        },
        "id": "LGRpRb4Db_BY",
        "colab_type": "code",
        "colab": {}
      },
      "source": [
        "# and and or perform a single Boolean evaluationon an entire object, \n",
        "# while & and | perform multiple Booleanevaluations on the content \n",
        "# (the individual bits or bytes) of an object.For Boolean NumPy arrays, \n",
        "# the latter is nearly always the desiredoperation."
      ],
      "execution_count": 0,
      "outputs": []
    },
    {
      "cell_type": "code",
      "metadata": {
        "id": "x05h4gvYb_Ba",
        "colab_type": "code",
        "colab": {}
      },
      "source": [
        "# solve this rainy example, the last use of masking is good\n",
        "#https://docs.google.com/document/d/1l4iWHsSMCEszFwDIxO2tfF1lBFh6lmdQqlVaQxl3Dew/edit\n",
        "\n",
        "#ask ire, how to do gist , or create web page from git?\n",
        "#do from exploring fancy indexing"
      ],
      "execution_count": 0,
      "outputs": []
    },
    {
      "cell_type": "code",
      "metadata": {
        "id": "sLpHpTsKb_Bb",
        "colab_type": "code",
        "colab": {
          "base_uri": "https://localhost:8080/",
          "height": 34
        },
        "outputId": "081cc75d-1ffd-4dad-a7bc-1648344d4520"
      },
      "source": [
        "!pwd"
      ],
      "execution_count": 19,
      "outputs": [
        {
          "output_type": "stream",
          "text": [
            "/content\n"
          ],
          "name": "stdout"
        }
      ]
    },
    {
      "cell_type": "code",
      "metadata": {
        "id": "McZP4LUsf-Ad",
        "colab_type": "code",
        "colab": {
          "base_uri": "https://localhost:8080/",
          "height": 34
        },
        "outputId": "7012fab5-5875-4b69-c08a-d350e035ef43"
      },
      "source": [
        "import numpy as np\n",
        "import pandas as pd\n",
        "\n",
        "rainfall = pd.read_csv('drive/My Drive/data/Seattle2014.csv')['PRCP'].values\n",
        "inches = rainfall / 254 #1/10MM inches\n",
        "inches.shape"
      ],
      "execution_count": 26,
      "outputs": [
        {
          "output_type": "execute_result",
          "data": {
            "text/plain": [
              "(365,)"
            ]
          },
          "metadata": {
            "tags": []
          },
          "execution_count": 26
        }
      ]
    },
    {
      "cell_type": "code",
      "metadata": {
        "id": "KLoAy5eYjGYp",
        "colab_type": "code",
        "colab": {}
      },
      "source": [
        ""
      ],
      "execution_count": 0,
      "outputs": []
    }
  ]
}